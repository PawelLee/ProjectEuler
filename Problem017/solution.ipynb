{
 "cells": [
  {
   "cell_type": "markdown",
   "metadata": {},
   "source": [
    "# Number letter counts\n",
    "\n",
    "If all the numbers from 1 to 1000 (one thousand) inclusive were written out in words, how many letters would be used?\n",
    "\n",
    "Create a function to convert an integer in the range $[1,1000]$ to its string version:"
   ]
  },
  {
   "cell_type": "code",
   "execution_count": 1,
   "metadata": {},
   "outputs": [],
   "source": [
    "from math import floor\n",
    "\n",
    "\n",
    "def integer_to_word(input_int):\n",
    "    \"\"\"Converts an integer in range [1, 1000] to its text representation\n",
    "\n",
    "    Args:\n",
    "        input_int (int): the integer to be converted\n",
    "    Returns:\n",
    "        words (str): the text representation of the input integer\n",
    "    \"\"\"\n",
    "    units = {0: \"\", 1: \"one\", 2: \"two\", 3: \"three\", 4: \"four\", 5: \"five\", 6: \"six\", 7: \"seven\", 8:\"eight\", 9: \"nine\"}\n",
    "    tens = {0: \"\", 2: \"twenty\", 3: \"thirty\", 4: \"forty\", 5: \"fifty\", 6: \"sixty\", 7: \"seventy\",\n",
    "            8: \"eighty\", 9: \"ninety\"}\n",
    "    teens = {0: \"ten\", 1: \"eleven\", 2: \"twelve\", 3: \"thirteen\", 4: \"fourteen\", 5: \"fifteen\", 6: \"sixteen\",\n",
    "             7: \"seventeen\", 8: \"eighteen\", 9: \"nineteen\"}\n",
    "    words = \"\"\n",
    "\n",
    "    if 100 <= input_int < 1000:\n",
    "        words += units[floor(input_int / 100)] + \" hundred \"\n",
    "    if input_int > 100 and input_int % 100:\n",
    "        words += \"and \"\n",
    "    if floor(input_int/10) % 10 == 1:\n",
    "        words += teens[input_int % 10]\n",
    "    else:\n",
    "        words += tens[floor(input_int/10) % 10]\n",
    "        if input_int % 10 and input_int > 20:\n",
    "            words += \"-\"\n",
    "        words += units[input_int % 10]\n",
    "    if input_int == 1000:\n",
    "        words = \"one thousand\"\n",
    "    return words"
   ]
  },
  {
   "cell_type": "markdown",
   "metadata": {},
   "source": [
    "Use the function to create a list of word representations of all the integers in the range $[1,1000]$. Then join them to create a single long string, remove spaces and dashes, and finally count the remaining characters:"
   ]
  },
  {
   "cell_type": "code",
   "execution_count": 2,
   "metadata": {},
   "outputs": [
    {
     "name": "stdout",
     "output_type": "stream",
     "text": [
      "21124\n"
     ]
    }
   ],
   "source": [
    "print(len(\"\".join([integer_to_word(i) for i in range(1,1001)]).replace(\"-\", \"\").replace(\" \", \"\")))"
   ]
  }
 ],
 "metadata": {
  "kernelspec": {
   "display_name": "Python 3",
   "language": "python",
   "name": "python3"
  },
  "language_info": {
   "codemirror_mode": {
    "name": "ipython",
    "version": 3
   },
   "file_extension": ".py",
   "mimetype": "text/x-python",
   "name": "python",
   "nbconvert_exporter": "python",
   "pygments_lexer": "ipython3",
   "version": "3.7.0"
  }
 },
 "nbformat": 4,
 "nbformat_minor": 2
}
