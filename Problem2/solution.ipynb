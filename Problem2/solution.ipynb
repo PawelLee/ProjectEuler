{
 "cells": [
  {
   "cell_type": "markdown",
   "metadata": {},
   "source": [
    "# Even Fibonacci numbers\n",
    "\n",
    "Problem: By considering the terms in the Fibonacci sequence whose values do not exceed four million, find the sum of the even-valued terms.\n",
    "\n",
    "Let us start by generating the Fibonacci Sequence:"
   ]
  },
  {
   "cell_type": "code",
   "execution_count": 11,
   "metadata": {},
   "outputs": [],
   "source": [
    "upper_limit = 4000000\n",
    "\n",
    "a = b = 1\n",
    "\n",
    "fib_sequence= [1]\n",
    "while b < upper_limit:\n",
    "    a, b = b, a + b\n",
    "    fib_sequence.append(a)"
   ]
  },
  {
   "cell_type": "markdown",
   "metadata": {},
   "source": [
    "Every third item in the Fibonacci sequence is even since we are alternating between two sums of an odd number and an even number (the result is always odd) and one sum of two odd numbers (the result is always even). This can be expressed as a slice of the ```fib_sequence``` list starting from the third item (index 2) until the end of the list, incrementing in steps of 3.\n",
    "\n",
    "The sum of the resulting items should be equal to 4613732"
   ]
  },
  {
   "cell_type": "code",
   "execution_count": 12,
   "metadata": {},
   "outputs": [
    {
     "data": {
      "text/plain": [
       "4613732"
      ]
     },
     "execution_count": 12,
     "metadata": {},
     "output_type": "execute_result"
    }
   ],
   "source": [
    "sum(fib_sequence[2::3])"
   ]
  },
  {
   "cell_type": "markdown",
   "metadata": {},
   "source": [
    "This solution, however, can be made more elegant. In Python we can use generators to express infinite sequences."
   ]
  },
  {
   "cell_type": "code",
   "execution_count": 13,
   "metadata": {},
   "outputs": [],
   "source": [
    "def fib_generator():\n",
    "    a, b = 1, 1\n",
    "    while True:\n",
    "        yield a\n",
    "        a, b = b, a + b"
   ]
  },
  {
   "cell_type": "markdown",
   "metadata": {},
   "source": [
    "We can use the iterator tool ```takewhile``` to generate the Fibonacci sequence of terms smaller than ```upper_limit```."
   ]
  },
  {
   "cell_type": "code",
   "execution_count": 14,
   "metadata": {},
   "outputs": [
    {
     "name": "stdout",
     "output_type": "stream",
     "text": [
      "4613732\n"
     ]
    }
   ],
   "source": [
    "from itertools import takewhile\n",
    "\n",
    "print(sum(list(takewhile(lambda x: x < upper_limit, fib_generator()))[2::3]))"
   ]
  }
 ],
 "metadata": {
  "kernelspec": {
   "display_name": "Python 3",
   "language": "python",
   "name": "python3"
  },
  "language_info": {
   "codemirror_mode": {
    "name": "ipython",
    "version": 3
   },
   "file_extension": ".py",
   "mimetype": "text/x-python",
   "name": "python",
   "nbconvert_exporter": "python",
   "pygments_lexer": "ipython3",
   "version": "3.7.0"
  }
 },
 "nbformat": 4,
 "nbformat_minor": 2
}
