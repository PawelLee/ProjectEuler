{
 "cells": [
  {
   "cell_type": "markdown",
   "metadata": {},
   "source": [
    "# Largest product in a grid"
   ]
  },
  {
   "cell_type": "markdown",
   "metadata": {},
   "source": [
    "What is the greatest product of four adjacent numbers in the same direction (up, down, left, right, or diagonally) in the 20×20 grid?\n",
    "\n",
    "The 20x20 number grid is saved in the comma seprated file `grid.csv`"
   ]
  },
  {
   "cell_type": "code",
   "execution_count": 1,
   "metadata": {},
   "outputs": [],
   "source": [
    "import csv\n",
    "\n",
    "with open('grid.csv') as csv_file:\n",
    "    data = list(list(rec) for rec in csv.reader(csv_file, delimiter=','))\n",
    "data1 = data.copy()\n",
    "for r, row in enumerate(data):\n",
    "    for c, col in enumerate(row):\n",
    "        data[r][c] = int(data[r][c])"
   ]
  },
  {
   "cell_type": "markdown",
   "metadata": {},
   "source": [
    "Iterate over all the rows:"
   ]
  },
  {
   "cell_type": "code",
   "execution_count": 2,
   "metadata": {},
   "outputs": [
    {
     "name": "stdout",
     "output_type": "stream",
     "text": [
      "4204200\n"
     ]
    }
   ],
   "source": [
    "from functools import reduce\n",
    "\n",
    "max_product = 0\n",
    "for row in data:\n",
    "    for i in range(len(row)):\n",
    "        if len(data[0][i:i+4]) == 4:\n",
    "            product = reduce(lambda x, y: int(x)*int(y), data[0][i:i+4])\n",
    "            max_product = product if product > max_product else max_product\n",
    "print(max_product)"
   ]
  },
  {
   "cell_type": "markdown",
   "metadata": {},
   "source": [
    "Columns:"
   ]
  },
  {
   "cell_type": "code",
   "execution_count": 3,
   "metadata": {},
   "outputs": [
    {
     "name": "stdout",
     "output_type": "stream",
     "text": [
      "51267216\n"
     ]
    }
   ],
   "source": [
    "for i in range(len(data)-3):\n",
    "    for j in range(len(data[i])):\n",
    "        product = data[i][j]*data[i+1][j]*data[i+2][j]*data[i+3][j]\n",
    "        max_product = product if product > max_product else max_product\n",
    "print(max_product)"
   ]
  },
  {
   "cell_type": "markdown",
   "metadata": {},
   "source": [
    "Diagonals right:"
   ]
  },
  {
   "cell_type": "code",
   "execution_count": 4,
   "metadata": {},
   "outputs": [
    {
     "name": "stdout",
     "output_type": "stream",
     "text": [
      "51267216\n"
     ]
    }
   ],
   "source": [
    "for i in range(len(data)-3):\n",
    "    for j in range(len(data[i])-3):\n",
    "        product = data[i][j]*data[i+1][j+1]*data[i+2][j+2]*data[i+3][j+3]      \n",
    "        max_product = product if product > max_product else max_product\n",
    "print(max_product)"
   ]
  },
  {
   "cell_type": "markdown",
   "metadata": {},
   "source": [
    "Diagonals left:"
   ]
  },
  {
   "cell_type": "code",
   "execution_count": 5,
   "metadata": {},
   "outputs": [
    {
     "name": "stdout",
     "output_type": "stream",
     "text": [
      "70600674\n"
     ]
    }
   ],
   "source": [
    "for i in range(len(data)-3):\n",
    "    for j in range(3, len(data[i])):\n",
    "        product = data[i][j]*data[i+1][j-1]*data[i+2][j-2]*data[i+3][j-3]        \n",
    "        max_product = product if product > max_product else max_product\n",
    "print(max_product)"
   ]
  },
  {
   "cell_type": "code",
   "execution_count": null,
   "metadata": {},
   "outputs": [],
   "source": []
  }
 ],
 "metadata": {
  "kernelspec": {
   "display_name": "Python 3",
   "language": "python",
   "name": "python3"
  },
  "language_info": {
   "codemirror_mode": {
    "name": "ipython",
    "version": 3
   },
   "file_extension": ".py",
   "mimetype": "text/x-python",
   "name": "python",
   "nbconvert_exporter": "python",
   "pygments_lexer": "ipython3",
   "version": "3.7.0"
  }
 },
 "nbformat": 4,
 "nbformat_minor": 2
}
