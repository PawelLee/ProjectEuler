{
 "cells": [
  {
   "cell_type": "markdown",
   "metadata": {},
   "source": [
    "# Amicable numbers\n",
    "\n",
    "Let $d(n)$ be defined as the sum of proper divisors of $n$ (numbers less than $n$ which divide evenly into $n$).\n",
    "If $d(a) = b$ and $d(b) = a$, where $a ≠ b$, then $a$ and $b$ are an amicable pair and each of $a$ and $b$ are called amicable numbers.\n",
    "\n",
    "Evaluate the sum of all the amicable numbers under 10000.\n",
    "\n",
    "Let us create a function to calculate the sum of proper divisors:"
   ]
  },
  {
   "cell_type": "code",
   "execution_count": 1,
   "metadata": {},
   "outputs": [],
   "source": [
    "from math import ceil\n",
    "\n",
    "def proper_divisor_sum(input_int):\n",
    "    \"\"\"Finds the proper divisors of an integer and calculates their sum\n",
    "\n",
    "    Args:\n",
    "        input_int (int): the number whose divisors are to be be found\n",
    "    Returns\n",
    "        sum_of_divisors (int): the sum of proper divisors of input_int\n",
    "    \"\"\"\n",
    "    divisors = []\n",
    "    for i in range(1, int(ceil(input_int / 2) + 1)):\n",
    "        if not input_int % i:\n",
    "            divisors.append(i)\n",
    "    return sum(divisors)"
   ]
  },
  {
   "cell_type": "markdown",
   "metadata": {},
   "source": [
    "Now use it to find the proper divisor sums for all the integers in range $[1,10000]$. This allows us to identify all the amicable number pairs and calculate their sum:"
   ]
  },
  {
   "cell_type": "code",
   "execution_count": 2,
   "metadata": {},
   "outputs": [
    {
     "name": "stdout",
     "output_type": "stream",
     "text": [
      "31626\n"
     ]
    }
   ],
   "source": [
    "divisor_sums = [proper_divisor_sum(i) for i in range(1, 10000)]\n",
    "amicable_numbers = []\n",
    "for i in range(1, 10000):\n",
    "    if divisor_sums[i-1]-1 < 10000 and i == divisor_sums[divisor_sums[i-1]-1] and i != divisor_sums[i-1]:\n",
    "        amicable_numbers.append(i)\n",
    "print(sum(amicable_numbers))"
   ]
  }
 ],
 "metadata": {
  "kernelspec": {
   "display_name": "Python 3",
   "language": "python",
   "name": "python3"
  },
  "language_info": {
   "codemirror_mode": {
    "name": "ipython",
    "version": 3
   },
   "file_extension": ".py",
   "mimetype": "text/x-python",
   "name": "python",
   "nbconvert_exporter": "python",
   "pygments_lexer": "ipython3",
   "version": "3.7.0"
  }
 },
 "nbformat": 4,
 "nbformat_minor": 2
}
