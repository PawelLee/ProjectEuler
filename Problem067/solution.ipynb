{
 "cells": [
  {
   "cell_type": "markdown",
   "metadata": {},
   "source": [
    "# Maximum path sum II\n",
    "\n",
    "Note: I have already solved this in Problem 18. This solution simply uses a different input, ```traingle_3.csv```.\n",
    "\n",
    "We can think of the triangle as a directed acyclic graph (DAG) where the numbers in the triangle are the edge weights to the adjacent vertices in the next row. There are no closed loops because we never backtrack to the previous levels. If we start from the top of the triangle the vertices are already topologically ordered therefore we can apply the Single Source Shortest Path (SSSP) algorithm to them.\n",
    "\n",
    "Let's start by loading the triangle from a csv file:"
   ]
  },
  {
   "cell_type": "code",
   "execution_count": 1,
   "metadata": {},
   "outputs": [],
   "source": [
    "import csv\n",
    "\n",
    "with open('triangle_3.csv') as csv_file:\n",
    "    data = list(list(rec) for rec in csv.reader(csv_file, delimiter=',', quoting = csv.QUOTE_NONNUMERIC,))\n",
    "\n",
    "# print(*data, sep=\"\\n\")"
   ]
  },
  {
   "cell_type": "markdown",
   "metadata": {},
   "source": [
    "We can load the triangle as an adjacency list i.e. a collection (here we will implement it as dictionary) where we store for each vertex all the other vertices it is connected to along with the weight of the edges:"
   ]
  },
  {
   "cell_type": "code",
   "execution_count": 2,
   "metadata": {},
   "outputs": [],
   "source": [
    "j = 0 # vertex number\n",
    "adjacency = {}\n",
    "\n",
    "for i in range(len(data)-1):\n",
    "    for position_in_row in range(len(data[i])):\n",
    "        # each vertex is connected to two vertices in the next row:\n",
    "        # one sharing the same position_in_row and one in the next position\n",
    "        adjacency[j] = [(j+len(data[i]), data[i+1][position_in_row]),\n",
    "                        (j+len(data[i])+1, data[i+1][position_in_row+1])]\n",
    "        j += 1\n",
    "# print(adjacency)"
   ]
  },
  {
   "cell_type": "markdown",
   "metadata": {},
   "source": [
    "We start with the first vertex in topological order. We want to visit all the reachable nodes and store the weight of the edge in the dictionary ```dist``` which maps each vertex in this graph to the total \"distance\" to it. Once we have visited all the edges we move to the next vertex in the order and visit all of its edges to calculate the distances to them (we add the value of the current vertex to the weight of the edge). For distances to vertices that we have already visited we only update ```dist``` if the newly calculated value is greater than the one stored. We repeat the process for all the vertices in the graph and then find the greatest value"
   ]
  },
  {
   "cell_type": "code",
   "execution_count": 3,
   "metadata": {},
   "outputs": [
    {
     "data": {
      "text/plain": [
       "7273.0"
      ]
     },
     "execution_count": 3,
     "metadata": {},
     "output_type": "execute_result"
    }
   ],
   "source": [
    "dist = {}\n",
    "dist[0] = data[0][0]\n",
    "for vertex in range(len(adjacency)):\n",
    "    for edge in adjacency[vertex]:\n",
    "        if edge[0] in dist:\n",
    "            dist[edge[0]] = max(dist[edge[0]], dist[vertex] + edge[1])\n",
    "        else:\n",
    "            dist[edge[0]] = dist[vertex] + edge[1]\n",
    "max(dist.values())"
   ]
  }
 ],
 "metadata": {
  "kernelspec": {
   "display_name": "Python 3",
   "language": "python",
   "name": "python3"
  },
  "language_info": {
   "codemirror_mode": {
    "name": "ipython",
    "version": 3
   },
   "file_extension": ".py",
   "mimetype": "text/x-python",
   "name": "python",
   "nbconvert_exporter": "python",
   "pygments_lexer": "ipython3",
   "version": "3.7.0"
  }
 },
 "nbformat": 4,
 "nbformat_minor": 2
}
