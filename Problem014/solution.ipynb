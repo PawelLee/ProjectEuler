{
 "cells": [
  {
   "cell_type": "markdown",
   "metadata": {},
   "source": [
    "# Longest Collatz sequence"
   ]
  },
  {
   "cell_type": "markdown",
   "metadata": {},
   "source": [
    "Which starting number, under one million, produces the longest Collatz sequence?\n",
    "\n",
    "I created a function to calculate the length of the Collatz sequence for an integer a"
   ]
  },
  {
   "cell_type": "code",
   "execution_count": 8,
   "metadata": {},
   "outputs": [],
   "source": [
    "def collatz_length(a):\n",
    "    \"\"\"Calculates the length of the Collatz sequence for a\n",
    "\n",
    "    Args:\n",
    "        a (int) -- the integer for which we are calculating the length\n",
    "    Returns:\n",
    "        n (int) -- the length of the sequence\n",
    "    \"\"\"\n",
    "\n",
    "    n = 1\n",
    "    while a != 1:\n",
    "        a = 3 * a + 1 if a % 2 else a / 2\n",
    "        n += 1\n",
    "\n",
    "    return n"
   ]
  },
  {
   "cell_type": "markdown",
   "metadata": {},
   "source": [
    "Now we can simply iterate over all the integers under one million to find the one that returns the longest chain. The anwer should be 837799."
   ]
  },
  {
   "cell_type": "code",
   "execution_count": 9,
   "metadata": {},
   "outputs": [
    {
     "name": "stdout",
     "output_type": "stream",
     "text": [
      "837799\n"
     ]
    }
   ],
   "source": [
    "longest_chain = (0, 0)\n",
    "for i in range(1, 1000000):\n",
    "    a = collatz_length(i)\n",
    "    if a > longest_chain[1]:\n",
    "        longest_chain = (i, a)\n",
    "print(longest_chain[0])"
   ]
  }
 ],
 "metadata": {
  "kernelspec": {
   "display_name": "Python 3",
   "language": "python",
   "name": "python3"
  },
  "language_info": {
   "codemirror_mode": {
    "name": "ipython",
    "version": 3
   },
   "file_extension": ".py",
   "mimetype": "text/x-python",
   "name": "python",
   "nbconvert_exporter": "python",
   "pygments_lexer": "ipython3",
   "version": "3.7.0"
  }
 },
 "nbformat": 4,
 "nbformat_minor": 2
}
